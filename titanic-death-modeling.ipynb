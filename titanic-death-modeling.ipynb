{
 "cells": [
  {
   "cell_type": "markdown",
   "metadata": {},
   "source": [
    "# Import Libraries needed"
   ]
  },
  {
   "cell_type": "code",
   "execution_count": 92,
   "metadata": {},
   "outputs": [],
   "source": [
    "import pandas as pd\n",
    "import matplotlib.pyplot as plt\n",
    "import seaborn as sns\n",
    "import numpy as np\n",
    "\n",
    "import warnings\n",
    "warnings.filterwarnings(\"ignore\")\n",
    "\n",
    "# Note: We are going to be importing libraries as needed, in order to have more clarity on \n",
    "# what's to realted to which section"
   ]
  },
  {
   "cell_type": "markdown",
   "metadata": {},
   "source": [
    "#1. Read Data"
   ]
  },
  {
   "cell_type": "code",
   "execution_count": 93,
   "metadata": {},
   "outputs": [
    {
     "data": {
      "text/html": [
       "<div>\n",
       "<style scoped>\n",
       "    .dataframe tbody tr th:only-of-type {\n",
       "        vertical-align: middle;\n",
       "    }\n",
       "\n",
       "    .dataframe tbody tr th {\n",
       "        vertical-align: top;\n",
       "    }\n",
       "\n",
       "    .dataframe thead th {\n",
       "        text-align: right;\n",
       "    }\n",
       "</style>\n",
       "<table border=\"1\" class=\"dataframe\">\n",
       "  <thead>\n",
       "    <tr style=\"text-align: right;\">\n",
       "      <th></th>\n",
       "      <th>Survived</th>\n",
       "      <th>Pclass</th>\n",
       "      <th>Sex</th>\n",
       "      <th>Age</th>\n",
       "      <th>SibSp</th>\n",
       "      <th>Parch</th>\n",
       "      <th>Fare</th>\n",
       "      <th>Embarked</th>\n",
       "      <th>Title</th>\n",
       "      <th>Deck</th>\n",
       "    </tr>\n",
       "  </thead>\n",
       "  <tbody>\n",
       "    <tr>\n",
       "      <th>0</th>\n",
       "      <td>0.0</td>\n",
       "      <td>3</td>\n",
       "      <td>0</td>\n",
       "      <td>-0.562845</td>\n",
       "      <td>0.729948</td>\n",
       "      <td>0.0</td>\n",
       "      <td>-0.865509</td>\n",
       "      <td>0.339009</td>\n",
       "      <td>0.156673</td>\n",
       "      <td>0.299854</td>\n",
       "    </tr>\n",
       "    <tr>\n",
       "      <th>1</th>\n",
       "      <td>1.0</td>\n",
       "      <td>1</td>\n",
       "      <td>1</td>\n",
       "      <td>0.657637</td>\n",
       "      <td>0.729948</td>\n",
       "      <td>0.0</td>\n",
       "      <td>1.330622</td>\n",
       "      <td>0.553571</td>\n",
       "      <td>0.791989</td>\n",
       "      <td>0.589066</td>\n",
       "    </tr>\n",
       "    <tr>\n",
       "      <th>2</th>\n",
       "      <td>1.0</td>\n",
       "      <td>3</td>\n",
       "      <td>1</td>\n",
       "      <td>-0.257725</td>\n",
       "      <td>0.000000</td>\n",
       "      <td>0.0</td>\n",
       "      <td>-0.797636</td>\n",
       "      <td>0.339009</td>\n",
       "      <td>0.697802</td>\n",
       "      <td>0.299854</td>\n",
       "    </tr>\n",
       "    <tr>\n",
       "      <th>3</th>\n",
       "      <td>1.0</td>\n",
       "      <td>1</td>\n",
       "      <td>1</td>\n",
       "      <td>0.428796</td>\n",
       "      <td>0.729948</td>\n",
       "      <td>0.0</td>\n",
       "      <td>0.995065</td>\n",
       "      <td>0.339009</td>\n",
       "      <td>0.791989</td>\n",
       "      <td>0.589066</td>\n",
       "    </tr>\n",
       "    <tr>\n",
       "      <th>4</th>\n",
       "      <td>0.0</td>\n",
       "      <td>3</td>\n",
       "      <td>0</td>\n",
       "      <td>0.428796</td>\n",
       "      <td>0.000000</td>\n",
       "      <td>0.0</td>\n",
       "      <td>-0.785550</td>\n",
       "      <td>0.339009</td>\n",
       "      <td>0.156673</td>\n",
       "      <td>0.299854</td>\n",
       "    </tr>\n",
       "  </tbody>\n",
       "</table>\n",
       "</div>"
      ],
      "text/plain": [
       "   Survived  Pclass  Sex       Age     SibSp  Parch      Fare  Embarked  \\\n",
       "0       0.0       3    0 -0.562845  0.729948    0.0 -0.865509  0.339009   \n",
       "1       1.0       1    1  0.657637  0.729948    0.0  1.330622  0.553571   \n",
       "2       1.0       3    1 -0.257725  0.000000    0.0 -0.797636  0.339009   \n",
       "3       1.0       1    1  0.428796  0.729948    0.0  0.995065  0.339009   \n",
       "4       0.0       3    0  0.428796  0.000000    0.0 -0.785550  0.339009   \n",
       "\n",
       "      Title      Deck  \n",
       "0  0.156673  0.299854  \n",
       "1  0.791989  0.589066  \n",
       "2  0.697802  0.299854  \n",
       "3  0.791989  0.589066  \n",
       "4  0.156673  0.299854  "
      ]
     },
     "metadata": {},
     "output_type": "display_data"
    },
    {
     "name": "stdout",
     "output_type": "stream",
     "text": [
      "<class 'pandas.core.frame.DataFrame'>\n",
      "RangeIndex: 881 entries, 0 to 880\n",
      "Data columns (total 10 columns):\n",
      " #   Column    Non-Null Count  Dtype  \n",
      "---  ------    --------------  -----  \n",
      " 0   Survived  881 non-null    float64\n",
      " 1   Pclass    881 non-null    int64  \n",
      " 2   Sex       881 non-null    int64  \n",
      " 3   Age       881 non-null    float64\n",
      " 4   SibSp     881 non-null    float64\n",
      " 5   Parch     881 non-null    float64\n",
      " 6   Fare      881 non-null    float64\n",
      " 7   Embarked  881 non-null    float64\n",
      " 8   Title     881 non-null    float64\n",
      " 9   Deck      881 non-null    float64\n",
      "dtypes: float64(8), int64(2)\n",
      "memory usage: 69.0 KB\n"
     ]
    },
    {
     "data": {
      "text/plain": [
       "None"
      ]
     },
     "metadata": {},
     "output_type": "display_data"
    }
   ],
   "source": [
    "df_train = pd.read_csv(\"cleaned_data/train_data_cl.csv\")\n",
    "df_test = pd.read_csv(\"cleaned_data/test_data_cl.csv\")\n",
    "\n",
    "display(df_train.head())\n",
    "display(df_train.info())"
   ]
  },
  {
   "cell_type": "markdown",
   "metadata": {},
   "source": [
    "### Tweak a bit our training data and feature selection:\n"
   ]
  },
  {
   "cell_type": "code",
   "execution_count": 94,
   "metadata": {},
   "outputs": [],
   "source": [
    "# Separating features and target\n",
    "X = df_train.drop('Survived', axis = 1)\n",
    "y = df_train[['Survived']].astype('int')"
   ]
  },
  {
   "cell_type": "code",
   "execution_count": 95,
   "metadata": {},
   "outputs": [
    {
     "data": {
      "image/png": "[encoded data removed]",
      "text/plain": [
       "<Figure size 640x480 with 1 Axes>"
      ]
     },
     "metadata": {},
     "output_type": "display_data"
    }
   ],
   "source": [
    "pieid = y[\"Survived\"].value_counts()\n",
    "\n",
    "#define Seaborn color palette to use\n",
    "colors = sns.color_palette('pastel')[0:5]\n",
    "\n",
    "#create pie chart\n",
    "plt.pie( pieid.values, labels = [\"dead\",\"alive\"], colors = colors, autopct='%.0f%%')\n",
    "\n",
    "plt.title(\"Survived distribution\")\n",
    "plt.show()"
   ]
  },
  {
   "cell_type": "markdown",
   "metadata": {},
   "source": [
    "We now have 61/39 of survival on our train data. Let's make new data to make it 50/50 ith SMOTE\n",
    "This is in preparation of the GBR model we are going to fit."
   ]
  },
  {
   "cell_type": "code",
   "execution_count": 96,
   "metadata": {},
   "outputs": [
    {
     "name": "stdout",
     "output_type": "stream",
     "text": [
      "[('Survived', 1)] (1082, 1)\n"
     ]
    }
   ],
   "source": [
    "from imblearn.over_sampling import SMOTE\n",
    "from collections import Counter\n",
    "\n",
    "smote = SMOTE(random_state = 0)\n",
    "\n",
    "X_resampled, y_resampled = smote.fit_resample(X,y)\n",
    "print(sorted(Counter(y_resampled).items()), y_resampled.shape)"
   ]
  },
  {
   "cell_type": "markdown",
   "metadata": {},
   "source": [
    "We have generated up to 1082 rows."
   ]
  },
  {
   "cell_type": "code",
   "execution_count": 97,
   "metadata": {},
   "outputs": [
    {
     "data": {
      "image/png": "[encoded data removed]",
      "text/plain": [
       "<Figure size 640x480 with 1 Axes>"
      ]
     },
     "metadata": {},
     "output_type": "display_data"
    }
   ],
   "source": [
    "pieid = y_resampled[\"Survived\"].value_counts()\n",
    "\n",
    "#define Seaborn color palette to use\n",
    "colors = sns.color_palette('pastel')[0:5]\n",
    "\n",
    "#create pie chart\n",
    "plt.pie( pieid.values, labels = [\"dead\",\"alive\"], colors = colors, autopct='%.0f%%')\n",
    "\n",
    "plt.title(\"Survived distribution\")\n",
    "plt.show()"
   ]
  },
  {
   "cell_type": "markdown",
   "metadata": {},
   "source": [
    "So now we have even data."
   ]
  },
  {
   "cell_type": "markdown",
   "metadata": {},
   "source": [
    "# Feature selection"
   ]
  },
  {
   "cell_type": "code",
   "execution_count": 98,
   "metadata": {},
   "outputs": [
    {
     "data": {
      "text/plain": [
       "Index(['Pclass', 'Sex', 'Age', 'SibSp', 'Parch', 'Fare', 'Title', 'Deck'], dtype='object')"
      ]
     },
     "execution_count": 98,
     "metadata": {},
     "output_type": "execute_result"
    }
   ],
   "source": [
    "from sklearn.feature_selection import VarianceThreshold\n",
    "\n",
    "first_method = VarianceThreshold(threshold= 0.01)\n",
    "first_method.fit(X_resampled)\n",
    "selected_mask = first_method.get_support()\n",
    "X_resampled.columns[selected_mask]"
   ]
  },
  {
   "cell_type": "code",
   "execution_count": 99,
   "metadata": {},
   "outputs": [],
   "source": [
    "X_resampled = X_resampled[X_resampled.columns[selected_mask]]  "
   ]
  },
  {
   "cell_type": "markdown",
   "metadata": {},
   "source": [
    "# Modeling\n"
   ]
  },
  {
   "cell_type": "code",
   "execution_count": 100,
   "metadata": {},
   "outputs": [],
   "source": [
    "import sklearn.metrics as metrics\n",
    "from sklearn.model_selection import train_test_split\n",
    "from sklearn.model_selection import GridSearchCV\n",
    "\n",
    "def hyper_param_tune (model, params ):\n",
    "    dt_clf = GridSearchCV(model, params, cv=2, return_train_score=False)\n",
    "    dt_clf.fit(X, y)\n",
    "    print(\"Model best parameters:\", dt_clf.best_params_)\n",
    "    return dt_clf.best_params_\n",
    "\n",
    "def modelling( model, X_resampled , y_resampled , param = None):\n",
    "    X_train, X_valid, y_train, y_valid = train_test_split(X_resampled, y_resampled, test_size=0.2)\n",
    "    if param == None:\n",
    "        Model = model()\n",
    "    else:\n",
    "        Model = model(**param)\n",
    "    # Fit model\n",
    "    Model.fit(X_train, y_train)\n",
    "\n",
    "    # get predicted prices on validation data\n",
    "    val_predictions = Model.predict(X_valid)\n",
    "    mae = metrics.mean_absolute_error(y_valid, val_predictions)\n",
    "    prec = metrics.accuracy_score(y_valid, val_predictions)\n",
    "    accur = metrics.precision_score(y_valid, val_predictions)\n",
    "    print(\"MAE:\",mae)\n",
    "    print(\"Precision:\",prec)\n",
    "    print(\"Accuracy:\",accur)\n",
    "    return mae,prec,accur\n",
    "    "
   ]
  },
  {
   "cell_type": "markdown",
   "metadata": {},
   "source": [
    "#### Decision Tree"
   ]
  },
  {
   "cell_type": "markdown",
   "metadata": {},
   "source": [
    "+ ##### Easy stupid way:"
   ]
  },
  {
   "cell_type": "code",
   "execution_count": 101,
   "metadata": {},
   "outputs": [
    {
     "name": "stdout",
     "output_type": "stream",
     "text": [
      "MAE: 0.2073732718894009\n",
      "Precision: 0.7926267281105991\n",
      "Accuracy: 0.7297297297297297\n"
     ]
    },
    {
     "data": {
      "text/plain": [
       "(0.2073732718894009, 0.7926267281105991, 0.7297297297297297)"
      ]
     },
     "execution_count": 101,
     "metadata": {},
     "output_type": "execute_result"
    }
   ],
   "source": [
    "from sklearn.tree import DecisionTreeClassifier\n",
    "\n",
    "modelling( DecisionTreeClassifier, X_resampled , y_resampled)"
   ]
  },
  {
   "cell_type": "markdown",
   "metadata": {},
   "source": [
    "You get not so bad values, but seems pretty random how it goes, so we are going to choose some parameterers for the model.\n",
    "+ #### More thoughtful way:\n",
    "Choose the Best Hyperparameter Using GridSearchCV Hyperparameter Tuning."
   ]
  },
  {
   "cell_type": "code",
   "execution_count": 110,
   "metadata": {},
   "outputs": [
    {
     "name": "stdout",
     "output_type": "stream",
     "text": [
      "DecisionTreeClassifier best parameters: {'criterion': 'gini', 'max_depth': None, 'max_features': None, 'min_samples_leaf': 6, 'min_samples_split': 5, 'splitter': 'random'}\n"
     ]
    }
   ],
   "source": [
    "\n",
    "# DecisionTreeClassifier\n",
    "dt_params = {\n",
    "    'criterion': ['gini', 'entropy', 'log_loss'],\n",
    "    'splitter': ['best', 'random'],\n",
    "    'min_samples_split': [2, 4, 5, 8],\n",
    "    'min_samples_leaf': [1, 2, 4, 6],\n",
    "    'max_depth': [None, 10, 20, 30, 40, 50, 60],\n",
    "    'max_features': ['auto', 'sqrt', 'log2', None]\n",
    "}\n",
    "dt_hyper_param = hyper_param_tune( DecisionTreeClassifier(), dt_params )\n"
   ]
  },
  {
   "cell_type": "code",
   "execution_count": 109,
   "metadata": {},
   "outputs": [
    {
     "name": "stdout",
     "output_type": "stream",
     "text": [
      "MAE: 0.17972350230414746\n",
      "Precision: 0.8202764976958525\n",
      "Accuracy: 0.7946428571428571\n"
     ]
    },
    {
     "data": {
      "text/plain": [
       "(0.17972350230414746, 0.8202764976958525, 0.7946428571428571)"
      ]
     },
     "execution_count": 109,
     "metadata": {},
     "output_type": "execute_result"
    }
   ],
   "source": [
    "modelling( DecisionTreeClassifier, X_resampled, y_resampled, param = dt_hyper_param )"
   ]
  },
  {
   "cell_type": "markdown",
   "metadata": {},
   "source": [
    "#### Random Forest"
   ]
  },
  {
   "cell_type": "markdown",
   "metadata": {},
   "source": [
    "+ ##### Easy stupid way:"
   ]
  },
  {
   "cell_type": "code",
   "execution_count": 121,
   "metadata": {},
   "outputs": [
    {
     "name": "stdout",
     "output_type": "stream",
     "text": [
      "MAE: 0.15668202764976957\n",
      "Precision: 0.8433179723502304\n",
      "Accuracy: 0.8282828282828283\n"
     ]
    },
    {
     "data": {
      "text/plain": [
       "(0.15668202764976957, 0.8433179723502304, 0.8282828282828283)"
      ]
     },
     "execution_count": 121,
     "metadata": {},
     "output_type": "execute_result"
    }
   ],
   "source": [
    "from sklearn.ensemble import RandomForestClassifier\n",
    "\n",
    "modelling( RandomForestClassifier, X_resampled , y_resampled )"
   ]
  },
  {
   "cell_type": "markdown",
   "metadata": {},
   "source": [
    "+ #### More thoughtful way:"
   ]
  },
  {
   "cell_type": "code",
   "execution_count": 124,
   "metadata": {},
   "outputs": [
    {
     "name": "stdout",
     "output_type": "stream",
     "text": [
      "DecisionTreeClassifier best parameters: {'max_depth': 30, 'max_features': 'sqrt', 'min_samples_leaf': 2, 'min_samples_split': 2, 'n_estimators': 100}\n",
      "MAE: 0.12442396313364056\n",
      "Precision: 0.8755760368663594\n",
      "Accuracy: 0.8611111111111112\n"
     ]
    },
    {
     "data": {
      "text/plain": [
       "(0.12442396313364056, 0.8755760368663594, 0.8611111111111112)"
      ]
     },
     "execution_count": 124,
     "metadata": {},
     "output_type": "execute_result"
    }
   ],
   "source": [
    "\n",
    "# Random Forest Classifier\n",
    "rf_params = {\n",
    "    'n_estimators': [50, 100, 150, 200],\n",
    "    'max_depth': [10, 20, 30, 40],\n",
    "    'min_samples_split': [2, 5, 10, 20],\n",
    "    'min_samples_leaf': [1, 2, 4, 8],\n",
    "    'max_features': ['sqrt', 'log2', None]\n",
    "}\n",
    "rf_hyper_param = hyper_param_tune( RandomForestClassifier(), rf_params )\n"
   ]
  },
  {
   "cell_type": "code",
   "execution_count": 125,
   "metadata": {},
   "outputs": [
    {
     "name": "stdout",
     "output_type": "stream",
     "text": [
      "MAE: 0.1152073732718894\n",
      "Precision: 0.8847926267281107\n",
      "Accuracy: 0.8942307692307693\n"
     ]
    },
    {
     "data": {
      "text/plain": [
       "(0.1152073732718894, 0.8847926267281107, 0.8942307692307693)"
      ]
     },
     "execution_count": 125,
     "metadata": {},
     "output_type": "execute_result"
    }
   ],
   "source": [
    "modelling( RandomForestClassifier, X_resampled, y_resampled, param = rf_hyper_param )"
   ]
  },
  {
   "cell_type": "markdown",
   "metadata": {},
   "source": [
    "#### Logistic Regression"
   ]
  },
  {
   "cell_type": "markdown",
   "metadata": {},
   "source": [
    "+ ##### Easy stupid way:"
   ]
  },
  {
   "cell_type": "code",
   "execution_count": 132,
   "metadata": {},
   "outputs": [
    {
     "name": "stdout",
     "output_type": "stream",
     "text": [
      "MAE: 0.20276497695852536\n",
      "Precision: 0.7972350230414746\n",
      "Accuracy: 0.819047619047619\n"
     ]
    },
    {
     "data": {
      "text/plain": [
       "(0.20276497695852536, 0.7972350230414746, 0.819047619047619)"
      ]
     },
     "execution_count": 132,
     "metadata": {},
     "output_type": "execute_result"
    }
   ],
   "source": [
    "from sklearn.linear_model import LogisticRegression\n",
    "\n",
    "modelling( LogisticRegression, X_resampled , y_resampled)"
   ]
  },
  {
   "cell_type": "markdown",
   "metadata": {},
   "source": [
    "+ #### More thoughtful way:"
   ]
  },
  {
   "cell_type": "code",
   "execution_count": 133,
   "metadata": {},
   "outputs": [
    {
     "name": "stdout",
     "output_type": "stream",
     "text": [
      "DecisionTreeClassifier best parameters: {'C': 10, 'penalty': 'l1', 'solver': 'liblinear'}\n"
     ]
    }
   ],
   "source": [
    "\n",
    "# Logistic Regression Classifier\n",
    "lr_params = {\n",
    "    'penalty': ['l1', 'l2'],\n",
    "    'C': [0.1, 1, 10],\n",
    "    'solver': ['liblinear', 'saga']\n",
    "}\n",
    "\n",
    "lr_hyper_param = hyper_param_tune( LogisticRegression(), lr_params )"
   ]
  },
  {
   "cell_type": "code",
   "execution_count": 134,
   "metadata": {},
   "outputs": [
    {
     "name": "stdout",
     "output_type": "stream",
     "text": [
      "MAE: 0.1889400921658986\n",
      "Precision: 0.8110599078341014\n",
      "Accuracy: 0.8272727272727273\n"
     ]
    },
    {
     "data": {
      "text/plain": [
       "(0.1889400921658986, 0.8110599078341014, 0.8272727272727273)"
      ]
     },
     "execution_count": 134,
     "metadata": {},
     "output_type": "execute_result"
    }
   ],
   "source": [
    "modelling( LogisticRegression, X_resampled, y_resampled, param = lr_hyper_param )"
   ]
  },
  {
   "cell_type": "markdown",
   "metadata": {},
   "source": [
    "#### KNN"
   ]
  },
  {
   "cell_type": "markdown",
   "metadata": {},
   "source": [
    "+ ##### Easy stupid way:"
   ]
  },
  {
   "cell_type": "code",
   "execution_count": 135,
   "metadata": {},
   "outputs": [
    {
     "name": "stdout",
     "output_type": "stream",
     "text": [
      "MAE: 0.17972350230414746\n",
      "Precision: 0.8202764976958525\n",
      "Accuracy: 0.7938144329896907\n"
     ]
    },
    {
     "data": {
      "text/plain": [
       "(0.17972350230414746, 0.8202764976958525, 0.7938144329896907)"
      ]
     },
     "execution_count": 135,
     "metadata": {},
     "output_type": "execute_result"
    }
   ],
   "source": [
    "from sklearn.neighbors import KNeighborsClassifier\n",
    "\n",
    "modelling( KNeighborsClassifier, X_resampled, y_resampled )"
   ]
  },
  {
   "cell_type": "markdown",
   "metadata": {},
   "source": [
    "+ #### More thoughtful way:"
   ]
  },
  {
   "cell_type": "code",
   "execution_count": 136,
   "metadata": {},
   "outputs": [
    {
     "name": "stderr",
     "output_type": "stream",
     "text": [
      "  File \"c:\\Users\\Mauri\\AppData\\Local\\Programs\\Python\\Python38\\lib\\site-packages\\joblib\\externals\\loky\\backend\\context.py\", line 282, in _count_physical_cores\n",
      "    raise ValueError(f\"found {cpu_count_physical} physical cores < 1\")\n"
     ]
    },
    {
     "name": "stdout",
     "output_type": "stream",
     "text": [
      "DecisionTreeClassifier best parameters: {'algorithm': 'auto', 'n_neighbors': 7, 'weights': 'uniform'}\n"
     ]
    }
   ],
   "source": [
    "\n",
    "# KNN Classifier\n",
    "knn_params = {\n",
    "    'n_neighbors': [3, 5, 7],\n",
    "    'weights': ['uniform', 'distance'],\n",
    "    'algorithm': ['auto', 'ball_tree', 'kd_tree', 'brute']\n",
    "}\n",
    "knn_hyper_param = hyper_param_tune( KNeighborsClassifier(), knn_params )"
   ]
  },
  {
   "cell_type": "code",
   "execution_count": 137,
   "metadata": {},
   "outputs": [
    {
     "name": "stdout",
     "output_type": "stream",
     "text": [
      "MAE: 0.14285714285714285\n",
      "Precision: 0.8571428571428571\n",
      "Accuracy: 0.8245614035087719\n"
     ]
    },
    {
     "data": {
      "text/plain": [
       "(0.14285714285714285, 0.8571428571428571, 0.8245614035087719)"
      ]
     },
     "execution_count": 137,
     "metadata": {},
     "output_type": "execute_result"
    }
   ],
   "source": [
    "modelling( KNeighborsClassifier, X_resampled, y_resampled, param = knn_hyper_param )"
   ]
  },
  {
   "cell_type": "markdown",
   "metadata": {},
   "source": [
    "#### SVC"
   ]
  },
  {
   "cell_type": "markdown",
   "metadata": {},
   "source": [
    "+ ##### Easy stupid way:"
   ]
  },
  {
   "cell_type": "code",
   "execution_count": 138,
   "metadata": {},
   "outputs": [
    {
     "name": "stdout",
     "output_type": "stream",
     "text": [
      "MAE: 0.1935483870967742\n",
      "Precision: 0.8064516129032258\n",
      "Accuracy: 0.8854166666666666\n"
     ]
    },
    {
     "data": {
      "text/plain": [
       "(0.1935483870967742, 0.8064516129032258, 0.8854166666666666)"
      ]
     },
     "execution_count": 138,
     "metadata": {},
     "output_type": "execute_result"
    }
   ],
   "source": [
    "from sklearn.svm import SVC\n",
    "\n",
    "modelling( SVC, X_resampled , y_resampled )"
   ]
  },
  {
   "cell_type": "markdown",
   "metadata": {},
   "source": [
    "+ #### More thoughtful way:"
   ]
  },
  {
   "cell_type": "code",
   "execution_count": 139,
   "metadata": {},
   "outputs": [
    {
     "name": "stdout",
     "output_type": "stream",
     "text": [
      "DecisionTreeClassifier best parameters: {'C': 10, 'gamma': 'auto', 'kernel': 'poly'}\n"
     ]
    }
   ],
   "source": [
    "\n",
    "# SVC Classifier\n",
    "svc_params = {\n",
    "    'C': [0.1, 1, 10],\n",
    "    'kernel': ['linear', 'poly', 'rbf', 'sigmoid'],\n",
    "    'gamma': ['scale', 'auto']\n",
    "}\n",
    "svc_hyper_param = hyper_param_tune( SVC(), svc_params )"
   ]
  },
  {
   "cell_type": "code",
   "execution_count": 140,
   "metadata": {},
   "outputs": [
    {
     "name": "stdout",
     "output_type": "stream",
     "text": [
      "MAE: 0.17511520737327188\n",
      "Precision: 0.8248847926267281\n",
      "Accuracy: 0.8888888888888888\n"
     ]
    },
    {
     "data": {
      "text/plain": [
       "(0.17511520737327188, 0.8248847926267281, 0.8888888888888888)"
      ]
     },
     "execution_count": 140,
     "metadata": {},
     "output_type": "execute_result"
    }
   ],
   "source": [
    "modelling( SVC, X_resampled, y_resampled, param = svc_hyper_param )"
   ]
  },
  {
   "cell_type": "markdown",
   "metadata": {},
   "source": [
    "#### XGB Classifier"
   ]
  },
  {
   "cell_type": "markdown",
   "metadata": {},
   "source": [
    "+ ##### Easy stupid way:"
   ]
  },
  {
   "cell_type": "code",
   "execution_count": 141,
   "metadata": {},
   "outputs": [
    {
     "name": "stdout",
     "output_type": "stream",
     "text": [
      "MAE: 0.17511520737327188\n",
      "Precision: 0.8248847926267281\n",
      "Accuracy: 0.7777777777777778\n"
     ]
    },
    {
     "data": {
      "text/plain": [
       "(0.17511520737327188, 0.8248847926267281, 0.7777777777777778)"
      ]
     },
     "execution_count": 141,
     "metadata": {},
     "output_type": "execute_result"
    }
   ],
   "source": [
    "from xgboost import XGBClassifier\n",
    "\n",
    "modelling( XGBClassifier, X_resampled, y_resampled )"
   ]
  },
  {
   "cell_type": "markdown",
   "metadata": {},
   "source": [
    "+ #### More thoughtful way:"
   ]
  },
  {
   "cell_type": "code",
   "execution_count": 142,
   "metadata": {},
   "outputs": [
    {
     "name": "stdout",
     "output_type": "stream",
     "text": [
      "DecisionTreeClassifier best parameters: {'colsample_bytree': 0.8, 'learning_rate': 0.1, 'max_depth': 10, 'n_estimators': 50, 'subsample': 0.8}\n"
     ]
    }
   ],
   "source": [
    "\n",
    "# XGB Boost Classifier\n",
    "xgb_params = {\n",
    "    'n_estimators': [50, 100, 150, 200],\n",
    "    'max_depth': [10, 20, 30, 40],\n",
    "    'learning_rate': [0.1, 0.01, 0.001],\n",
    "    'subsample': [0.8, 1.0],\n",
    "    'colsample_bytree': [0.8, 1.0],\n",
    "}\n",
    "xgb_hyper_param = hyper_param_tune( XGBClassifier(), xgb_params )"
   ]
  },
  {
   "cell_type": "code",
   "execution_count": 143,
   "metadata": {},
   "outputs": [
    {
     "name": "stdout",
     "output_type": "stream",
     "text": [
      "MAE: 0.2073732718894009\n",
      "Precision: 0.7926267281105991\n",
      "Accuracy: 0.7946428571428571\n"
     ]
    },
    {
     "data": {
      "text/plain": [
       "(0.2073732718894009, 0.7926267281105991, 0.7946428571428571)"
      ]
     },
     "execution_count": 143,
     "metadata": {},
     "output_type": "execute_result"
    }
   ],
   "source": [
    "modelling( XGBClassifier, X_resampled, y_resampled, param = xgb_hyper_param )"
   ]
  },
  {
   "cell_type": "markdown",
   "metadata": {},
   "source": [
    "#### Gradient Boost"
   ]
  },
  {
   "cell_type": "markdown",
   "metadata": {},
   "source": [
    "+ ##### Easy stupid way:"
   ]
  },
  {
   "cell_type": "code",
   "execution_count": 144,
   "metadata": {},
   "outputs": [
    {
     "name": "stdout",
     "output_type": "stream",
     "text": [
      "MAE: 0.16129032258064516\n",
      "Precision: 0.8387096774193549\n",
      "Accuracy: 0.8571428571428571\n"
     ]
    },
    {
     "data": {
      "text/plain": [
       "(0.16129032258064516, 0.8387096774193549, 0.8571428571428571)"
      ]
     },
     "execution_count": 144,
     "metadata": {},
     "output_type": "execute_result"
    }
   ],
   "source": [
    "from sklearn.ensemble import GradientBoostingClassifier\n",
    "\n",
    "modelling( GradientBoostingClassifier, X_resampled , y_resampled)"
   ]
  },
  {
   "cell_type": "markdown",
   "metadata": {},
   "source": [
    "+ #### More thoughtful way:"
   ]
  },
  {
   "cell_type": "code",
   "execution_count": 145,
   "metadata": {},
   "outputs": [],
   "source": [
    "\n",
    "# DecisionTreeClassifier\n",
    "\n",
    "# dt_hyper_param = hyper_param_tune( SGradientBoostingClassifierVC(), dt_params  )\n",
    "\n",
    "# modelling( GradientBoostingClassifier(n_estimators=6000,\n",
    "#                                 learning_rate=0.01,\n",
    "#                                 max_depth=4,\n",
    "#                                 max_features='sqrt',\n",
    "#                                 min_samples_leaf=15,\n",
    "#                                 min_samples_split=10,\n",
    "#                                 random_state=42) , X_resampled , y_resampled , param = None)\n"
   ]
  },
  {
   "cell_type": "markdown",
   "metadata": {},
   "source": [
    "#### Gradient Boost"
   ]
  },
  {
   "cell_type": "markdown",
   "metadata": {},
   "source": [
    "+ ##### Easy stupid way:"
   ]
  },
  {
   "cell_type": "code",
   "execution_count": null,
   "metadata": {},
   "outputs": [
    {
     "name": "stdout",
     "output_type": "stream",
     "text": [
      "MAE: 0.16129032258064516\n",
      "Precision: 0.8387096774193549\n",
      "Accuracy: 0.8571428571428571\n"
     ]
    },
    {
     "data": {
      "text/plain": [
       "(0.16129032258064516, 0.8387096774193549, 0.8571428571428571)"
      ]
     },
     "metadata": {},
     "output_type": "display_data"
    }
   ],
   "source": [
    "from sklearn.ensemble import GradientBoostingClassifier\n",
    "\n",
    "modelling( GradientBoostingClassifier, X_resampled , y_resampled)"
   ]
  },
  {
   "cell_type": "markdown",
   "metadata": {},
   "source": [
    "+ #### More thoughtful way:"
   ]
  },
  {
   "cell_type": "code",
   "execution_count": null,
   "metadata": {},
   "outputs": [],
   "source": [
    "\n",
    "# DecisionTreeClassifier\n",
    "\n",
    "# dt_hyper_param = hyper_param_tune( SGradientBoostingClassifierVC(), dt_params  )\n",
    "\n",
    "# modelling( GradientBoostingClassifier(n_estimators=6000,\n",
    "#                                 learning_rate=0.01,\n",
    "#                                 max_depth=4,\n",
    "#                                 max_features='sqrt',\n",
    "#                                 min_samples_leaf=15,\n",
    "#                                 min_samples_split=10,\n",
    "#                                 random_state=42) , X_resampled , y_resampled , param = None)\n"
   ]
  },
  {
   "cell_type": "markdown",
   "metadata": {},
   "source": [
    "# Ultimate way:"
   ]
  },
  {
   "cell_type": "markdown",
   "metadata": {},
   "source": [
    "\n",
    "Seeking [this](https://www.kaggle.com/code/jaberjaber/titanic-ml-workflow-with-accuracy-of-84?scriptVersionId=137973515&cellId=128)\n"
   ]
  }
 ],
 "metadata": {
  "kernelspec": {
   "display_name": "Python 3",
   "language": "python",
   "name": "python3"
  },
  "language_info": {
   "codemirror_mode": {
    "name": "ipython",
    "version": 3
   },
   "file_extension": ".py",
   "mimetype": "text/x-python",
   "name": "python",
   "nbconvert_exporter": "python",
   "pygments_lexer": "ipython3",
   "version": "3.8.10"
  },
  "orig_nbformat": 4
 },
 "nbformat": 4,
 "nbformat_minor": 2
}
